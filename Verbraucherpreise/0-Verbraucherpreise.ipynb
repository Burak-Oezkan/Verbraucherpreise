{
 "cells": [
  {
   "cell_type": "markdown",
   "metadata": {},
   "source": [
    "# Untersuchung der Entwicklung von Verbraucherpreisen und Energiekosten 2023"
   ]
  },
  {
   "cell_type": "markdown",
   "metadata": {},
   "source": [
    "\n",
    "## Übersicht"
   ]
  },
  {
   "cell_type": "markdown",
   "metadata": {},
   "source": [
    "\n",
    "Verbraucherpreise sind während der Pandemie und insbesondere nach dem  Ukraine-Krieg stark gestiegen. Die prozentuale Veränderung gegenüber dem Vorjahr bildet dabei die Inflationsrate. Hauptsächlich werden die Energiekosten dafür verantwortlich gemacht. Nun wollen wir die Entwicklung des Verbraucherpreises und der Erzeugerpreise untersuchen.\n",
    "\n",
    "**Mögliche Fragen:**\n",
    "1. Wie stark sind die Preise gestiegen?\n",
    "2. Wann sind die Preise gestiegen?\n",
    "3. Welche Produkte sind besonders betroffen?\n",
    "4. Ist der Anstieg an Verbraucherpreisen und Erzeugerpreisen proportional?"
   ]
  },
  {
   "cell_type": "markdown",
   "metadata": {},
   "source": [
    "## Daten"
   ]
  },
  {
   "cell_type": "markdown",
   "metadata": {},
   "source": [
    "\n",
    "Die Daten für die Preisentwicklung in Deutschland wird, mithilfe von Messgrößen, von dem Statistischen Bundesamt erhoben. Der **Verbraucherpreisindex (VPI)** misst die prozentuale Veränderung der Preise bestimmter Waren und Dienstleistungen für private Haushalte. Die Veränderung des VPI zum Vorjahr bildet die Inflationsrate. Der **Erzeugerpreisindex (EPI)**  "
   ]
  },
  {
   "cell_type": "markdown",
   "metadata": {},
   "source": [
    "## Data Cleaning"
   ]
  },
  {
   "cell_type": "markdown",
   "metadata": {},
   "source": [
    "### VPI\n",
    "\n",
    "Die Verbraucherindex-Daten von 2018-2023 (Basisjahr=2020) finden wir auf folgender Seite des statistischen Bundesamtes: https://www.destatis.de/DE/Themen/Wirtschaft/Preise/Verbraucherpreisindex/Tabellen/Verbraucherpreise-12Kategorien.html \n",
    "\n",
    "Die monatlichen Indizes laden wir in **Power BI**.\n",
    "\n",
    "\n",
    "<img src='Bilder/2-1-VPI_load.png' width=\"600\"/>\n",
    "\n",
    "Um sie zu transformieren öffnen wir sie in **PowerQuery**. Wir stellen fest, dass für die zweite Tabelle, aufgrund der zusätzlichen Notiz, falsche column header verwendet wurden. Wir übernehmen die erste Zeile als header und entfernen die zweite Zeile.\n",
    "\n",
    "\n",
    "<img src='Bilder/2-2-VPI_Table1.png' width=\"1000\"/>\n",
    "\n",
    "Mithilfe der *fill* Funktion übernehmen wir die korrekten Jahreszahlen für die null-Werte. Wir erstellen mit *Add Column From Examples* eine neue Spalte in dem Format \"Jahr Monat\" und verknüpfen die Tabellen mit einem *INNER JOIN* auf der neuen Spalte.\n",
    "\n",
    "<img src='Bilder/2-3-VPI_merge_date_columns.png' width=\"1000\"/>\n",
    "\n",
    "Wir korrigieren die Spaltennamen und Spalten-Datentypen und bringen mit der Funktion *Unpivot* die Tabelle von der wide form in die long form.\n",
    "\n",
    "\n",
    "<img src='Bilder/2-4-VPI_unpivot.png' width=\"1000\"/>"
   ]
  },
  {
   "cell_type": "markdown",
   "metadata": {},
   "source": [
    "### EPI gewerbliche Produkte\n",
    "\n",
    "Quelle: https://www.destatis.de/DE/Themen/Wirtschaft/Preise/Erzeugerpreisindex-gewerbliche-Produkte/Tabellen/Erzeugerpreise-GewProdukte-Ausgewaehlte-Indizes.html#241814\n",
    "\n",
    "Die gleichen Schritte führen wir auf die EPI Query aus.\n",
    "\n",
    "<img src='Bilder/2-5-EPI_transform.png' width=\"1000\"/>"
   ]
  }
 ],
 "metadata": {
  "kernelspec": {
   "display_name": "base",
   "language": "python",
   "name": "python3"
  },
  "language_info": {
   "name": "python",
   "version": "3.10.9"
  },
  "orig_nbformat": 4
 },
 "nbformat": 4,
 "nbformat_minor": 2
}
