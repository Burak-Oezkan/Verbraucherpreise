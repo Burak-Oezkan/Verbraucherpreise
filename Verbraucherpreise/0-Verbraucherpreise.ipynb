{
 "cells": [
  {
   "cell_type": "markdown",
   "metadata": {},
   "source": [
    "# Untersuchung der Entwicklung von Verbraucherpreisen und Energiekosten 2023"
   ]
  },
  {
   "cell_type": "markdown",
   "metadata": {},
   "source": [
    "\n",
    "## Übersicht"
   ]
  },
  {
   "cell_type": "markdown",
   "metadata": {},
   "source": [
    "\n",
    "Verbraucherpreise sind während der Pandemie und insbesondere nach dem  Ukraine-Krieg stark gestiegen. Die prozentuale Veränderung gegenüber dem Vorjahr bildet dabei die Inflationsrate. Hauptsächlich werden die Energiekosten dafür verantwortlich gemacht. Nun wollen wir die Entwicklung des Verbraucherpreises und der Erzeugerpreise untersuchen.\n",
    "\n",
    "**Mögliche Fragen:**\n",
    "1. Wie stark sind die Preise gestiegen?\n",
    "2. Wann sind die Preise gestiegen?\n",
    "3. Welche Produkte sind besonders betroffen?\n",
    "4. Ist der Anstieg an Verbraucherpreisen und Erzeugerpreisen proportional?"
   ]
  },
  {
   "cell_type": "markdown",
   "metadata": {},
   "source": [
    "## Daten"
   ]
  },
  {
   "cell_type": "markdown",
   "metadata": {},
   "source": [
    "https://www.bundesbank.de/de/statistiken/konjunktur-und-preise/erzeuger-und-verbraucherpreise/erzeuger-und-verbraucherpreise-775284\n",
    "\n",
    "Die Daten für die Preisentwicklung in Deutschland wird, mithilfe von Messgrößen, von dem Statistischen Bundesamt erhoben. Der **Verbraucherpreisindex (VPI)** misst die prozentuale Veränderung der Preise bestimmter Waren und Dienstleistungen für private Haushalte. Die Veränderung des VPI zum Vorjahr bildet die Inflationsrate. Der **Erzeugerpreisindex (EPI)**  "
   ]
  },
  {
   "cell_type": "markdown",
   "metadata": {},
   "source": [
    "## Data Cleaning"
   ]
  },
  {
   "cell_type": "markdown",
   "metadata": {},
   "source": [
    "### VPI\n",
    "\n",
    "Die Verbraucherindex-Daten von 2018-2023 (Basisjahr=2020) finden wir auf folgender Seite des statistischen Bundesamtes: https://www.destatis.de/DE/Themen/Wirtschaft/Preise/Verbraucherpreisindex/Tabellen/Verbraucherpreise-12Kategorien.html \n",
    "\n",
    "Die monatlichen Indizes laden wir in **Power BI**.\n",
    "\n",
    "\n",
    "<img src='Bilder/2-1-VPI_load.png' width=\"600\"/>\n",
    "\n",
    "Um sie zu transformieren öffnen wir sie in **PowerQuery**. Wir stellen fest, dass für die zweite Tabelle, aufgrund der zusätzlichen Notiz, falsche column header verwendet wurden. Wir übernehmen die erste Zeile als header und entfernen die zweite Zeile.\n",
    "\n",
    "\n",
    "<img src='Bilder/2-2-VPI_Table1.png' width=\"1000\"/>\n",
    "\n",
    "Mithilfe der *fill* Funktion übernehmen wir die korrekten Jahreszahlen für die null-Werte. Wir erstellen mit *Add Column From Examples* eine neue Spalte in dem Format \"Jahr Monat\" und verknüpfen die Tabellen mit einem *INNER JOIN* auf der neuen Spalte.\n",
    "\n",
    "<img src='Bilder/2-3-VPI_merge_date_columns.png' width=\"1000\"/>\n",
    "\n",
    "Wir korrigieren die Spaltennamen und Spalten-Datentypen und bringen mit der Funktion *Unpivot* die Tabelle von der wide form in die long form.\n",
    "\n",
    "\n",
    "<img src='Bilder/2-4-VPI_unpivot.png' width=\"1000\"/>"
   ]
  },
  {
   "cell_type": "markdown",
   "metadata": {},
   "source": [
    "<img src='Bilder/2-5-EPI_transform.png' width=\"1000\"/>"
   ]
  },
  {
   "cell_type": "markdown",
   "metadata": {},
   "source": [
    "### EPI gewerbliche Produkte\n",
    "\n",
    "Quelle: https://www.destatis.de/DE/Themen/Wirtschaft/Preise/Erzeugerpreisindex-gewerbliche-Produkte/_inhalt.html#238942\n",
    "\n",
    "Dieses mal benutzen wir **Python** für das Data Cleaning. Dazu laden wir die entsprechende Tabelle als Excel Datei herunter. "
   ]
  },
  {
   "cell_type": "markdown",
   "metadata": {},
   "source": [
    "Wir laden die Daten in ein Pandas Dataframe."
   ]
  },
  {
   "cell_type": "code",
   "execution_count": 1,
   "metadata": {},
   "outputs": [
    {
     "data": {
      "text/html": [
       "<div>\n",
       "<style scoped>\n",
       "    .dataframe tbody tr th:only-of-type {\n",
       "        vertical-align: middle;\n",
       "    }\n",
       "\n",
       "    .dataframe tbody tr th {\n",
       "        vertical-align: top;\n",
       "    }\n",
       "\n",
       "    .dataframe thead th {\n",
       "        text-align: right;\n",
       "    }\n",
       "</style>\n",
       "<table border=\"1\" class=\"dataframe\">\n",
       "  <thead>\n",
       "    <tr style=\"text-align: right;\">\n",
       "      <th></th>\n",
       "      <th>Producer price index for industrial products: Germany,\\nmonths, product classification (GP2009 2-/3-/4-/5-/6-/\\n9-digit codes/special items)</th>\n",
       "      <th>Unnamed: 1</th>\n",
       "      <th>Unnamed: 2</th>\n",
       "      <th>Unnamed: 3</th>\n",
       "      <th>Unnamed: 4</th>\n",
       "      <th>Unnamed: 5</th>\n",
       "      <th>Unnamed: 6</th>\n",
       "      <th>Unnamed: 7</th>\n",
       "      <th>Unnamed: 8</th>\n",
       "      <th>Unnamed: 9</th>\n",
       "      <th>...</th>\n",
       "      <th>Unnamed: 64</th>\n",
       "      <th>Unnamed: 65</th>\n",
       "      <th>Unnamed: 66</th>\n",
       "      <th>Unnamed: 67</th>\n",
       "      <th>Unnamed: 68</th>\n",
       "      <th>Unnamed: 69</th>\n",
       "      <th>Unnamed: 70</th>\n",
       "      <th>Unnamed: 71</th>\n",
       "      <th>Unnamed: 72</th>\n",
       "      <th>Unnamed: 73</th>\n",
       "    </tr>\n",
       "  </thead>\n",
       "  <tbody>\n",
       "    <tr>\n",
       "      <th>0</th>\n",
       "      <td>Index of producer prices of industrial products</td>\n",
       "      <td>NaN</td>\n",
       "      <td>NaN</td>\n",
       "      <td>NaN</td>\n",
       "      <td>NaN</td>\n",
       "      <td>NaN</td>\n",
       "      <td>NaN</td>\n",
       "      <td>NaN</td>\n",
       "      <td>NaN</td>\n",
       "      <td>NaN</td>\n",
       "      <td>...</td>\n",
       "      <td>NaN</td>\n",
       "      <td>NaN</td>\n",
       "      <td>NaN</td>\n",
       "      <td>NaN</td>\n",
       "      <td>NaN</td>\n",
       "      <td>NaN</td>\n",
       "      <td>NaN</td>\n",
       "      <td>NaN</td>\n",
       "      <td>NaN</td>\n",
       "      <td>NaN</td>\n",
       "    </tr>\n",
       "    <tr>\n",
       "      <th>1</th>\n",
       "      <td>Germany</td>\n",
       "      <td>NaN</td>\n",
       "      <td>NaN</td>\n",
       "      <td>NaN</td>\n",
       "      <td>NaN</td>\n",
       "      <td>NaN</td>\n",
       "      <td>NaN</td>\n",
       "      <td>NaN</td>\n",
       "      <td>NaN</td>\n",
       "      <td>NaN</td>\n",
       "      <td>...</td>\n",
       "      <td>NaN</td>\n",
       "      <td>NaN</td>\n",
       "      <td>NaN</td>\n",
       "      <td>NaN</td>\n",
       "      <td>NaN</td>\n",
       "      <td>NaN</td>\n",
       "      <td>NaN</td>\n",
       "      <td>NaN</td>\n",
       "      <td>NaN</td>\n",
       "      <td>NaN</td>\n",
       "    </tr>\n",
       "    <tr>\n",
       "      <th>2</th>\n",
       "      <td>Producer price index for industrial products (...</td>\n",
       "      <td>NaN</td>\n",
       "      <td>NaN</td>\n",
       "      <td>NaN</td>\n",
       "      <td>NaN</td>\n",
       "      <td>NaN</td>\n",
       "      <td>NaN</td>\n",
       "      <td>NaN</td>\n",
       "      <td>NaN</td>\n",
       "      <td>NaN</td>\n",
       "      <td>...</td>\n",
       "      <td>NaN</td>\n",
       "      <td>NaN</td>\n",
       "      <td>NaN</td>\n",
       "      <td>NaN</td>\n",
       "      <td>NaN</td>\n",
       "      <td>NaN</td>\n",
       "      <td>NaN</td>\n",
       "      <td>NaN</td>\n",
       "      <td>NaN</td>\n",
       "      <td>NaN</td>\n",
       "    </tr>\n",
       "    <tr>\n",
       "      <th>3</th>\n",
       "      <td>GP2009 (2-digit codes): Industrial products</td>\n",
       "      <td>NaN</td>\n",
       "      <td>2018</td>\n",
       "      <td>NaN</td>\n",
       "      <td>NaN</td>\n",
       "      <td>NaN</td>\n",
       "      <td>NaN</td>\n",
       "      <td>NaN</td>\n",
       "      <td>NaN</td>\n",
       "      <td>NaN</td>\n",
       "      <td>...</td>\n",
       "      <td>NaN</td>\n",
       "      <td>NaN</td>\n",
       "      <td>NaN</td>\n",
       "      <td>NaN</td>\n",
       "      <td>NaN</td>\n",
       "      <td>NaN</td>\n",
       "      <td>NaN</td>\n",
       "      <td>NaN</td>\n",
       "      <td>NaN</td>\n",
       "      <td>NaN</td>\n",
       "    </tr>\n",
       "    <tr>\n",
       "      <th>4</th>\n",
       "      <td>NaN</td>\n",
       "      <td>NaN</td>\n",
       "      <td>January</td>\n",
       "      <td>February</td>\n",
       "      <td>March</td>\n",
       "      <td>April</td>\n",
       "      <td>May</td>\n",
       "      <td>June</td>\n",
       "      <td>July</td>\n",
       "      <td>August</td>\n",
       "      <td>...</td>\n",
       "      <td>March</td>\n",
       "      <td>April</td>\n",
       "      <td>May</td>\n",
       "      <td>June</td>\n",
       "      <td>July</td>\n",
       "      <td>August</td>\n",
       "      <td>September</td>\n",
       "      <td>October</td>\n",
       "      <td>November</td>\n",
       "      <td>December</td>\n",
       "    </tr>\n",
       "    <tr>\n",
       "      <th>5</th>\n",
       "      <td>GP09-05</td>\n",
       "      <td>Kohle</td>\n",
       "      <td>97.3</td>\n",
       "      <td>97.3</td>\n",
       "      <td>98.9</td>\n",
       "      <td>98.4</td>\n",
       "      <td>98.4</td>\n",
       "      <td>98.4</td>\n",
       "      <td>98.3</td>\n",
       "      <td>98.3</td>\n",
       "      <td>...</td>\n",
       "      <td>141</td>\n",
       "      <td>141</td>\n",
       "      <td>143</td>\n",
       "      <td>148.6</td>\n",
       "      <td>...</td>\n",
       "      <td>...</td>\n",
       "      <td>...</td>\n",
       "      <td>...</td>\n",
       "      <td>...</td>\n",
       "      <td>...</td>\n",
       "    </tr>\n",
       "    <tr>\n",
       "      <th>6</th>\n",
       "      <td>GP09-06</td>\n",
       "      <td>Erdöl und Erdgas</td>\n",
       "      <td>97.6</td>\n",
       "      <td>97</td>\n",
       "      <td>96</td>\n",
       "      <td>99.1</td>\n",
       "      <td>101</td>\n",
       "      <td>105.2</td>\n",
       "      <td>109.5</td>\n",
       "      <td>108.8</td>\n",
       "      <td>...</td>\n",
       "      <td>252.8</td>\n",
       "      <td>217.5</td>\n",
       "      <td>198.6</td>\n",
       "      <td>171.6</td>\n",
       "      <td>...</td>\n",
       "      <td>...</td>\n",
       "      <td>...</td>\n",
       "      <td>...</td>\n",
       "      <td>...</td>\n",
       "      <td>...</td>\n",
       "    </tr>\n",
       "    <tr>\n",
       "      <th>7</th>\n",
       "      <td>GP09-08</td>\n",
       "      <td>Steine und Erden, sonstige Bergbauerzeugnisse</td>\n",
       "      <td>103.9</td>\n",
       "      <td>104</td>\n",
       "      <td>104</td>\n",
       "      <td>104.3</td>\n",
       "      <td>105</td>\n",
       "      <td>104.9</td>\n",
       "      <td>105.2</td>\n",
       "      <td>105</td>\n",
       "      <td>...</td>\n",
       "      <td>152.1</td>\n",
       "      <td>152.5</td>\n",
       "      <td>153.1</td>\n",
       "      <td>153.6</td>\n",
       "      <td>...</td>\n",
       "      <td>...</td>\n",
       "      <td>...</td>\n",
       "      <td>...</td>\n",
       "      <td>...</td>\n",
       "      <td>...</td>\n",
       "    </tr>\n",
       "  </tbody>\n",
       "</table>\n",
       "<p>8 rows × 74 columns</p>\n",
       "</div>"
      ],
      "text/plain": [
       "  Producer price index for industrial products: Germany,\\nmonths, product classification (GP2009 2-/3-/4-/5-/6-/\\n9-digit codes/special items)  \\\n",
       "0    Index of producer prices of industrial products                                                                                             \n",
       "1                                            Germany                                                                                             \n",
       "2  Producer price index for industrial products (...                                                                                             \n",
       "3        GP2009 (2-digit codes): Industrial products                                                                                             \n",
       "4                                                NaN                                                                                             \n",
       "5                                            GP09-05                                                                                             \n",
       "6                                            GP09-06                                                                                             \n",
       "7                                            GP09-08                                                                                             \n",
       "\n",
       "                                      Unnamed: 1 Unnamed: 2 Unnamed: 3  \\\n",
       "0                                            NaN        NaN        NaN   \n",
       "1                                            NaN        NaN        NaN   \n",
       "2                                            NaN        NaN        NaN   \n",
       "3                                            NaN       2018        NaN   \n",
       "4                                            NaN    January   February   \n",
       "5                                          Kohle       97.3       97.3   \n",
       "6                               Erdöl und Erdgas       97.6         97   \n",
       "7  Steine und Erden, sonstige Bergbauerzeugnisse      103.9        104   \n",
       "\n",
       "  Unnamed: 4 Unnamed: 5 Unnamed: 6 Unnamed: 7 Unnamed: 8 Unnamed: 9  ...  \\\n",
       "0        NaN        NaN        NaN        NaN        NaN        NaN  ...   \n",
       "1        NaN        NaN        NaN        NaN        NaN        NaN  ...   \n",
       "2        NaN        NaN        NaN        NaN        NaN        NaN  ...   \n",
       "3        NaN        NaN        NaN        NaN        NaN        NaN  ...   \n",
       "4      March      April        May       June       July     August  ...   \n",
       "5       98.9       98.4       98.4       98.4       98.3       98.3  ...   \n",
       "6         96       99.1        101      105.2      109.5      108.8  ...   \n",
       "7        104      104.3        105      104.9      105.2        105  ...   \n",
       "\n",
       "  Unnamed: 64 Unnamed: 65 Unnamed: 66 Unnamed: 67 Unnamed: 68 Unnamed: 69  \\\n",
       "0         NaN         NaN         NaN         NaN         NaN         NaN   \n",
       "1         NaN         NaN         NaN         NaN         NaN         NaN   \n",
       "2         NaN         NaN         NaN         NaN         NaN         NaN   \n",
       "3         NaN         NaN         NaN         NaN         NaN         NaN   \n",
       "4       March       April         May        June        July      August   \n",
       "5         141         141         143       148.6         ...         ...   \n",
       "6       252.8       217.5       198.6       171.6         ...         ...   \n",
       "7       152.1       152.5       153.1       153.6         ...         ...   \n",
       "\n",
       "  Unnamed: 70 Unnamed: 71 Unnamed: 72 Unnamed: 73  \n",
       "0         NaN         NaN         NaN         NaN  \n",
       "1         NaN         NaN         NaN         NaN  \n",
       "2         NaN         NaN         NaN         NaN  \n",
       "3         NaN         NaN         NaN         NaN  \n",
       "4   September     October    November    December  \n",
       "5         ...         ...         ...         ...  \n",
       "6         ...         ...         ...         ...  \n",
       "7         ...         ...         ...         ...  \n",
       "\n",
       "[8 rows x 74 columns]"
      ]
     },
     "execution_count": 1,
     "metadata": {},
     "output_type": "execute_result"
    }
   ],
   "source": [
    "import pandas as pd\n",
    "\n",
    "file_path = '1-EPI-Gewerbliche-Produkte.xlsx'\n",
    "df = pd.read_excel(file_path)\n",
    "df.head(8)"
   ]
  },
  {
   "cell_type": "markdown",
   "metadata": {},
   "source": [
    "Wir Erstellen eine Funktion um die Spalten-Namen zu bestimmen."
   ]
  },
  {
   "cell_type": "code",
   "execution_count": 2,
   "metadata": {},
   "outputs": [],
   "source": [
    "def column_names():\n",
    "    # Name der ersten Spalte \n",
    "    columns = ['Kategorie']\n",
    "    # Zeitraum in der Form: 'JJJJ-MM' \n",
    "    for year in range(2018, 2024):\n",
    "        for month in range(1, 13):\n",
    "            columns.append(f'{year}-{month:02d}')\n",
    "    return columns"
   ]
  },
  {
   "cell_type": "markdown",
   "metadata": {},
   "source": [
    "Wir löschen die Reihen mit falschen und unnötigen Daten, wandeln die Daten in den long-Format und verändern die Datentypen"
   ]
  },
  {
   "cell_type": "code",
   "execution_count": 3,
   "metadata": {},
   "outputs": [
    {
     "data": {
      "text/html": [
       "<div>\n",
       "<style scoped>\n",
       "    .dataframe tbody tr th:only-of-type {\n",
       "        vertical-align: middle;\n",
       "    }\n",
       "\n",
       "    .dataframe tbody tr th {\n",
       "        vertical-align: top;\n",
       "    }\n",
       "\n",
       "    .dataframe thead th {\n",
       "        text-align: right;\n",
       "    }\n",
       "</style>\n",
       "<table border=\"1\" class=\"dataframe\">\n",
       "  <thead>\n",
       "    <tr style=\"text-align: right;\">\n",
       "      <th></th>\n",
       "      <th>Kategorie</th>\n",
       "      <th>Datum</th>\n",
       "      <th>EPI</th>\n",
       "    </tr>\n",
       "  </thead>\n",
       "  <tbody>\n",
       "    <tr>\n",
       "      <th>0</th>\n",
       "      <td>Kohle</td>\n",
       "      <td>2018-01-01</td>\n",
       "      <td>97.3125</td>\n",
       "    </tr>\n",
       "    <tr>\n",
       "      <th>1</th>\n",
       "      <td>Erdöl und Erdgas</td>\n",
       "      <td>2018-01-01</td>\n",
       "      <td>97.6250</td>\n",
       "    </tr>\n",
       "    <tr>\n",
       "      <th>2</th>\n",
       "      <td>Steine und Erden, sonstige Bergbauerzeugnisse</td>\n",
       "      <td>2018-01-01</td>\n",
       "      <td>103.8750</td>\n",
       "    </tr>\n",
       "    <tr>\n",
       "      <th>3</th>\n",
       "      <td>Nahrungsmittel und Futtermittel</td>\n",
       "      <td>2018-01-01</td>\n",
       "      <td>104.5000</td>\n",
       "    </tr>\n",
       "    <tr>\n",
       "      <th>4</th>\n",
       "      <td>Getränke</td>\n",
       "      <td>2018-01-01</td>\n",
       "      <td>103.5000</td>\n",
       "    </tr>\n",
       "  </tbody>\n",
       "</table>\n",
       "</div>"
      ],
      "text/plain": [
       "                                       Kategorie      Datum       EPI\n",
       "0                                          Kohle 2018-01-01   97.3125\n",
       "1                               Erdöl und Erdgas 2018-01-01   97.6250\n",
       "2  Steine und Erden, sonstige Bergbauerzeugnisse 2018-01-01  103.8750\n",
       "3                Nahrungsmittel und Futtermittel 2018-01-01  104.5000\n",
       "4                                       Getränke 2018-01-01  103.5000"
      ]
     },
     "execution_count": 3,
     "metadata": {},
     "output_type": "execute_result"
    }
   ],
   "source": [
    "def clean_data(df):\n",
    "    # Drop rows with missing data in column: 'Unnamed: 1'\n",
    "    df = df.dropna(subset=['Unnamed: 1'])\n",
    "    # Drop column: 'Producer price index for industrial products: Germany, months, product classification (GP2009 2-/3-/4-/5-/6-/ 9-digit codes/special items)'\n",
    "    df = df.drop(columns=['Producer price index for industrial products: Germany,\\nmonths, product classification (GP2009 2-/3-/4-/5-/6-/\\n9-digit codes/special items)'])\n",
    "    # Rename columns\n",
    "    df.columns = column_names()\n",
    "    # Drop Month with no data\n",
    "    columns_to_drop = df.columns[df.eq('...').any()]\n",
    "    df.drop(columns=columns_to_drop, inplace=True)\n",
    "    \n",
    "    # Pivot into long format\n",
    "    df = pd.melt(df, id_vars='Kategorie', var_name='Datum', value_name='EPI')\n",
    "    \n",
    "    # Change column type to float16 for column: 'EPI'\n",
    "    df = df.astype({'EPI': 'float16'})\n",
    "    # Change column type to datetime64[ns] for column: 'Datum'\n",
    "    df = df.astype({'Datum': 'datetime64[ns]'})\n",
    "    # Change column type to string for column: 'Kategorie'\n",
    "    df = df.astype({'Kategorie': 'category'})\n",
    "    \n",
    "    # Reset Index\n",
    "    df = df.reset_index(drop=True)\n",
    "    return df\n",
    "\n",
    "df_clean = clean_data(df.copy())\n",
    "df_clean.head()"
   ]
  },
  {
   "cell_type": "markdown",
   "metadata": {},
   "source": [
    "Schließlich speichern wir die gesäuberten Daten in eine Excel Datei."
   ]
  },
  {
   "cell_type": "code",
   "execution_count": 4,
   "metadata": {},
   "outputs": [],
   "source": [
    "df_clean.to_excel('1-EPI-Gewerbliche-Produkte-clean.xlsx', sheet_name='EPI', index=False)"
   ]
  },
  {
   "cell_type": "markdown",
   "metadata": {},
   "source": [
    "### EPI Dienstleistungen\n",
    "\n",
    "Quelle: https://www.destatis.de/DE/Themen/Wirtschaft/Preise/Erzeugerpreisindex-Dienstleistungen/_inhalt.html#\n",
    "\n",
    "Die Daten für das EPI von Dienstleistungen ist nur in Quartalen verfügbar. Wir benutzen, wie bei dem VPI, Power Query. Um die Spalten in die richtige Form zu bringen, verwenden wir ein Python script. Die restlichen Schritte sind vergleichbar mit den Vorherigen Queries. "
   ]
  },
  {
   "cell_type": "code",
   "execution_count": null,
   "metadata": {},
   "outputs": [],
   "source": [
    "# Das verwendete Python script\n",
    "\n",
    "# 'dataset' holds the input data for this script\n",
    "import pandas as pd\n",
    "df = dataset\n",
    "column_names = ['Code','Kategorie']\n",
    "# Zeitraum in der Form: 'JJJJ-QTR' \n",
    "for year in range(2018, 2024):\n",
    "    for qtr in range(1, 5):\n",
    "        column_names.append(f'{year}-{qtr:02d}')\n",
    "df.columns = column_names"
   ]
  },
  {
   "cell_type": "markdown",
   "metadata": {},
   "source": [
    "<img src='Bilder/2-6-EPI_Dienstleistungen.png' width=\"1000\"/>"
   ]
  },
  {
   "cell_type": "markdown",
   "metadata": {},
   "source": [
    "## Data Exploration"
   ]
  },
  {
   "cell_type": "markdown",
   "metadata": {},
   "source": [
    "**Mögliche Fragen:**\n",
    "1. Wie stark sind die Preise gestiegen?\n",
    "2. Wann sind die Preise gestiegen?\n",
    "3. Welche Produkte sind besonders betroffen?\n",
    "4. Ist der Anstieg an Verbraucherpreisen und Erzeugerpreisen proportional?\n",
    "\n",
    "Basis Jahr für VPI ist 2020. Also beträgt der Index im Jahr 2020 100.\n",
    "\n",
    "Basis Jahr für EPI ist 2015. Also beträgt der Index im Jahr 2015 100."
   ]
  },
  {
   "cell_type": "markdown",
   "metadata": {},
   "source": [
    "Vor der Pandemie lag die Inflationsrate für das Jahr 2019 bei 1,42%. Im März 2020 erklärt die Weltgesundheitsorganisation (WHO) die momentane Lage als weltweite Pandemie. Die Inflationsrate nimmt ab und vom Juli bis Oktober herrscht sogar eine deflationäre Phase. Besonders betroffen sind die Preise für \"Verkehr\", \"Freizeit, Unterhaltung und Kultur\"und \"Bekleidung und Schuhe\". Der minimale Wert lag im Juli 2020 für \"Freizeit, Unterhaltung und Kultur\" und betrug -5,87%. Die Inflationsrate für das gesamte Jahr 2020 betrug 0,54%."
   ]
  },
  {
   "cell_type": "markdown",
   "metadata": {},
   "source": [
    "<img src='Bilder/3-1-VPI_Inflation.png' width=\"1000\"/>\n",
    "\n",
    "<!-- <img src='Bilder/3-2-VPI_Deflation_Pandemie.png' width=\"1000\"/> -->"
   ]
  },
  {
   "cell_type": "markdown",
   "metadata": {},
   "source": [
    "Ab 2021 steigt die Inflationsrate an. Besonders betroffen ist die Produktgruppe \"Verkehr\". So ist die Inflationsrate für \"Verkehr\" im Juli 2021 9,04% und der Index beträgt 108,6. Nach dem Angriff auf die Ukraine steigert sich die Inflationsrate rasant. Im Februar liegt die Inflation bei 4,33%, nach dem Start der Invasion, im März schon bei 5,88%. Der Höhepunkt für die Inflationsrate liegt im Oktober 2022 bei 8,82%. Der Höhepunkt für den VPI liegt im Juni 2023 bei 116,8."
   ]
  },
  {
   "cell_type": "markdown",
   "metadata": {},
   "source": [
    "<img src='Bilder/3-3-VPI_index.png' width=\"1000\"/>"
   ]
  },
  {
   "cell_type": "markdown",
   "metadata": {},
   "source": [
    "Nach dem Angriff auf die Ukraine sind \"Nahrungsmittel und alkoholfreie Getränke\" die am größten betroffene Produkte. Im März 2023 beträgt die Inflationsrate für diese Produktgruppe bei 21,20% und der VPI bei 131,5, d.h. dass \"Nahrungsmittel und alkoholfreie Getränke\" 31,5% teurer sind als im Basisjahr 2020.\n",
    "\n",
    "<img src='Bilder/3-4-VPI_Vergleich.png' width=\"1000\"/>"
   ]
  },
  {
   "cell_type": "markdown",
   "metadata": {},
   "source": [
    "Der Verlauf des EPI ist ähnlich zum Verlauf des VPI jedoch sind die Werte für die Inflationsrate erheblich größer. So Liegt die Inflationsrate für den August 2022 bei 45,85% und im spezifischen für \"Energie\" bei 138,98%."
   ]
  },
  {
   "cell_type": "markdown",
   "metadata": {},
   "source": [
    "<img src='Bilder/3-5-EPI_max.png' width=\"1000\"/>"
   ]
  },
  {
   "cell_type": "markdown",
   "metadata": {},
   "source": [
    "Die Produktgruppen, die am frühesten von der Inflation betroffen waren, sind \"Erdöl und Erdgas\", \"Kokerzeugnisse und Mineralölerzeugnisse\" und \"Metalle\". "
   ]
  },
  {
   "cell_type": "markdown",
   "metadata": {},
   "source": [
    "<img src='Bilder/3-6-EPI_Güter1.png' width=\"1000\"/>"
   ]
  },
  {
   "cell_type": "markdown",
   "metadata": {},
   "source": [
    "Im Vergleich zu anderen Produkten stechen Nahrungsmittel heraus, weil der VPI stärker gestiegen ist als vieleicht zu vermuten wäre.\n",
    "\n",
    "<img src='Bilder/3-7-EPI_Güter2.png' width=\"1000\"/>"
   ]
  },
  {
   "cell_type": "markdown",
   "metadata": {},
   "source": [
    "Der EPI für Dienstleistungen hingegen ist im Vergleich viel weniger von der Inflation betroffen. Güter- und Personenbeförderung in der Schiffsfahrt sind hier die Außnahme. \n",
    "\n",
    "<img src='Bilder/3-8-EPI_Dienstleistungen.png' width=\"1000\"/>"
   ]
  },
  {
   "cell_type": "markdown",
   "metadata": {},
   "source": [
    "### Fazit\n",
    "\n",
    "* Sehr stark abhängig von Energiepreisen \n",
    "    * Industriegüter besonders betroffen\n",
    "* Nahrungsmittel im Vergleich zu anderen Produktgruppen größere Inflation im Vergleich zum EPI\n",
    "    * Frage: Wieso?\n",
    "* Inflation Energiepreise schon vor dem Angriff auf die Ukraine\n",
    "    * Anstieg an globalen Ölpreisen.\n",
    "    * Diversifikation nötig\n",
    "* Energiepreise wieder gesunken\n",
    "* VPI und EPI jedoch noch nicht "
   ]
  }
 ],
 "metadata": {
  "kernelspec": {
   "display_name": "base",
   "language": "python",
   "name": "python3"
  },
  "language_info": {
   "codemirror_mode": {
    "name": "ipython",
    "version": 3
   },
   "file_extension": ".py",
   "mimetype": "text/x-python",
   "name": "python",
   "nbconvert_exporter": "python",
   "pygments_lexer": "ipython3",
   "version": "3.10.9"
  },
  "orig_nbformat": 4
 },
 "nbformat": 4,
 "nbformat_minor": 2
}
