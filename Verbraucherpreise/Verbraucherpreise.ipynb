{
 "cells": [
  {
   "cell_type": "markdown",
   "metadata": {},
   "source": [
    "# Untersuchung der Entwicklung von Verbraucherpreisen und Energiekosten 2023"
   ]
  },
  {
   "cell_type": "markdown",
   "metadata": {},
   "source": [
    "\n",
    "## Übersicht\n",
    "\n",
    "Verbraucherpreise sind während der Pandemie und insbesondere nach dem  Ukraine-Krieg stark gestiegen. Die prozentuale Veränderung gegenüber dem Vorjahr bildet dabei die Inflationsrate. Hauptsächlich werden die Energiekosten dafür verantwortlich gemacht. Nun wollen wir die Entwicklung des Verbraucherpreises und der Erzeugerpreise untersuchen.\n",
    "\n",
    "**Mögliche Fragen:**\n",
    "1. Wie stark sind die Preise gestiegen?\n",
    "2. Wann sind die Preise gestiegen?\n",
    "3. Welche Produkte sind besonders betroffen?\n",
    "4. Ist der Anstieg an Verbraucherpreisen und Erzeugerpreisen proportional?"
   ]
  },
  {
   "cell_type": "markdown",
   "metadata": {},
   "source": [
    "## Daten\n",
    "\n",
    "Die Daten für die Preisentwicklung in Deutschland wird, mithilfe von Messgrößen, von dem Statistischen Bundesamt erhoben. Der **Verbraucherpreisindex (VPI)** misst die prozentuale Veränderung der Preise bestimmter Waren und Dienstleistungen für private Haushalte. Die Veränderung des VPI zum Vorjahr bildet die Inflationsrate. Der **Erzeugerpreisindex (EPI)**  "
   ]
  }
 ],
 "metadata": {
  "kernelspec": {
   "display_name": "base",
   "language": "python",
   "name": "python3"
  },
  "language_info": {
   "name": "python",
   "version": "3.10.9"
  },
  "orig_nbformat": 4
 },
 "nbformat": 4,
 "nbformat_minor": 2
}
